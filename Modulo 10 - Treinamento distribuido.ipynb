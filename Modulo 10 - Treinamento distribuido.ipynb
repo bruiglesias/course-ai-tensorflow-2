{
 "cells": [
  {
   "cell_type": "markdown",
   "id": "f2699bf9",
   "metadata": {},
   "source": [
    "## Importando as bibliotecas e base de dados "
   ]
  },
  {
   "cell_type": "code",
   "execution_count": 3,
   "id": "9c70941e",
   "metadata": {},
   "outputs": [],
   "source": [
    "import numpy as np\n",
    "import datetime\n",
    "import tensorflow as tf\n",
    "from tensorflow.keras.datasets import fashion_mnist"
   ]
  },
  {
   "cell_type": "markdown",
   "id": "3712d449",
   "metadata": {},
   "source": [
    "## Pré-processamento"
   ]
  },
  {
   "cell_type": "markdown",
   "id": "8fd675df",
   "metadata": {},
   "source": [
    "### Carregando a base de dados"
   ]
  },
  {
   "cell_type": "code",
   "execution_count": 4,
   "id": "fd58ddf7",
   "metadata": {},
   "outputs": [],
   "source": [
    "(X_train, y_train), (X_test, y_test) = fashion_mnist.load_data()"
   ]
  },
  {
   "cell_type": "markdown",
   "id": "9ce33c39",
   "metadata": {},
   "source": [
    "### Normalizando as imagens"
   ]
  },
  {
   "cell_type": "markdown",
   "id": "8bb57016",
   "metadata": {},
   "source": [
    "Dividimos cada pixel das imagens das bases de treinamento e teste, utilizando o maior valor: 255.\n",
    "\n",
    "Com isso, cada pixel estará na faixa entre 0 e 1. Dessa forma, a rede neural vai treinar mais rápida."
   ]
  },
  {
   "cell_type": "code",
   "execution_count": 5,
   "id": "b52fb077",
   "metadata": {},
   "outputs": [],
   "source": [
    "X_train = X_train / 255.0"
   ]
  },
  {
   "cell_type": "code",
   "execution_count": 6,
   "id": "fb4ab95d",
   "metadata": {},
   "outputs": [],
   "source": [
    "X_test = X_test / 255.0"
   ]
  },
  {
   "cell_type": "markdown",
   "id": "842e795a",
   "metadata": {},
   "source": [
    "### Remodelando (reshaping)  a base de dados"
   ]
  },
  {
   "cell_type": "markdown",
   "id": "44de67a6",
   "metadata": {},
   "source": [
    "Como estamos trabalhando com uma rede neural densa, mudamos a dimensão das bases de dados para ficarem no formato de vetor."
   ]
  },
  {
   "cell_type": "code",
   "execution_count": 7,
   "id": "61eb773d",
   "metadata": {},
   "outputs": [
    {
     "data": {
      "text/plain": [
       "(60000, 28, 28)"
      ]
     },
     "execution_count": 7,
     "metadata": {},
     "output_type": "execute_result"
    }
   ],
   "source": [
    "X_train.shape"
   ]
  },
  {
   "cell_type": "code",
   "execution_count": 8,
   "id": "f8cfae37",
   "metadata": {},
   "outputs": [],
   "source": [
    "# Como a dimensão de cada imagem é 28x28, mudamos toda a base de dados para o formato [-1 (todos os elementos), largura * altura]\n",
    "X_train = X_train.reshape(-1, 28 * 28)"
   ]
  },
  {
   "cell_type": "code",
   "execution_count": 9,
   "id": "69173d95",
   "metadata": {},
   "outputs": [
    {
     "data": {
      "text/plain": [
       "(60000, 784)"
      ]
     },
     "execution_count": 9,
     "metadata": {},
     "output_type": "execute_result"
    }
   ],
   "source": [
    "X_train.shape"
   ]
  },
  {
   "cell_type": "code",
   "execution_count": 10,
   "id": "f34d6ed8",
   "metadata": {},
   "outputs": [],
   "source": [
    "# Mudamos também a dimensão da base de teste\n",
    "X_test = X_test.reshape(-1, 28*28)"
   ]
  },
  {
   "cell_type": "markdown",
   "id": "225e38e6",
   "metadata": {},
   "source": [
    "## Construindo a Rede Neural Artificial"
   ]
  },
  {
   "cell_type": "markdown",
   "id": "3e3cbb25",
   "metadata": {},
   "source": [
    "### Definindo o modelo modelo normal (não distribuido)"
   ]
  },
  {
   "cell_type": "code",
   "execution_count": 12,
   "id": "b43b6d4e",
   "metadata": {},
   "outputs": [],
   "source": [
    "model_normal = tf.keras.models.Sequential()\n",
    "model_normal.add(tf.keras.layers.Dense(units=128, activation='relu', input_shape=(784,)))\n",
    "model_normal.add(tf.keras.layers.Dropout(rate=0.2))\n",
    "model_normal.add(tf.keras.layers.Dense(units=10, activation='softmax'))\n",
    "model_normal.compile(optimizer='adam', loss='sparse_categorical_crossentropy', metrics=['sparse_categorical_accuracy'])"
   ]
  },
  {
   "cell_type": "markdown",
   "id": "7eb6f2f2",
   "metadata": {},
   "source": [
    "## Definindo a estratégia distribuida"
   ]
  },
  {
   "cell_type": "code",
   "execution_count": 14,
   "id": "8fcb986d",
   "metadata": {},
   "outputs": [
    {
     "name": "stdout",
     "output_type": "stream",
     "text": [
      "WARNING:tensorflow:There are non-GPU devices in `tf.distribute.Strategy`, not using nccl allreduce.\n",
      "INFO:tensorflow:Using MirroredStrategy with devices ('/job:localhost/replica:0/task:0/device:CPU:0',)\n"
     ]
    }
   ],
   "source": [
    "distribute = tf.distribute.MirroredStrategy()"
   ]
  },
  {
   "cell_type": "markdown",
   "id": "86978e00",
   "metadata": {},
   "source": [
    "## Definindo um modelo distribuído"
   ]
  },
  {
   "cell_type": "code",
   "execution_count": 15,
   "id": "a39b8094",
   "metadata": {},
   "outputs": [],
   "source": [
    "with distribute.scope():\n",
    "    model_distributed = tf.keras.models.Sequential()\n",
    "    model_distributed.add(tf.keras.layers.Dense(units=128, activation='relu', input_shape=(784,)))\n",
    "    model_distributed.add(tf.keras.layers.Dropout(rate=0.2))\n",
    "    model_distributed.add(tf.keras.layers.Dense(units=10, activation='softmax'))\n",
    "    model_distributed.compile(optimizer='adam', loss='sparse_categorical_crossentropy', metrics=['sparse_categorical_accuracy'])"
   ]
  },
  {
   "cell_type": "markdown",
   "id": "d2c9d526",
   "metadata": {},
   "source": [
    "### Comparação de velocidade entre o treinamento normal e o treinamento distribuído"
   ]
  },
  {
   "cell_type": "code",
   "execution_count": 17,
   "id": "a24079c6",
   "metadata": {},
   "outputs": [
    {
     "name": "stdout",
     "output_type": "stream",
     "text": [
      "Epoch 1/20\n"
     ]
    },
    {
     "name": "stderr",
     "output_type": "stream",
     "text": [
      "2022-09-28 12:50:54.210115: W tensorflow/core/framework/dataset.cc:769] Input of GeneratorDatasetOp::Dataset will not be optimized because the dataset does not implement the AsGraphDefInternal() method needed to apply optimizations.\n"
     ]
    },
    {
     "name": "stdout",
     "output_type": "stream",
     "text": [
      "469/469 [==============================] - 1s 1ms/step - loss: 0.5919 - sparse_categorical_accuracy: 0.7959\n",
      "Epoch 2/20\n",
      "469/469 [==============================] - 1s 1ms/step - loss: 0.4243 - sparse_categorical_accuracy: 0.8515\n",
      "Epoch 3/20\n",
      "469/469 [==============================] - 1s 1ms/step - loss: 0.3825 - sparse_categorical_accuracy: 0.8641\n",
      "Epoch 4/20\n",
      "469/469 [==============================] - 1s 1ms/step - loss: 0.3557 - sparse_categorical_accuracy: 0.8720\n",
      "Epoch 5/20\n",
      "469/469 [==============================] - 1s 1ms/step - loss: 0.3406 - sparse_categorical_accuracy: 0.8773\n",
      "Epoch 6/20\n",
      "469/469 [==============================] - 1s 1ms/step - loss: 0.3247 - sparse_categorical_accuracy: 0.8823\n",
      "Epoch 7/20\n",
      "469/469 [==============================] - 1s 1ms/step - loss: 0.3129 - sparse_categorical_accuracy: 0.8862\n",
      "Epoch 8/20\n",
      "469/469 [==============================] - 1s 1ms/step - loss: 0.3045 - sparse_categorical_accuracy: 0.8886\n",
      "Epoch 9/20\n",
      "469/469 [==============================] - 1s 1ms/step - loss: 0.2937 - sparse_categorical_accuracy: 0.8921\n",
      "Epoch 10/20\n",
      "469/469 [==============================] - 1s 1ms/step - loss: 0.2868 - sparse_categorical_accuracy: 0.8945\n",
      "Epoch 11/20\n",
      "469/469 [==============================] - 1s 1ms/step - loss: 0.2799 - sparse_categorical_accuracy: 0.8968\n",
      "Epoch 12/20\n",
      "469/469 [==============================] - 1s 1ms/step - loss: 0.2739 - sparse_categorical_accuracy: 0.8981\n",
      "Epoch 13/20\n",
      "469/469 [==============================] - 1s 1ms/step - loss: 0.2682 - sparse_categorical_accuracy: 0.9003\n",
      "Epoch 14/20\n",
      "469/469 [==============================] - 1s 1ms/step - loss: 0.2624 - sparse_categorical_accuracy: 0.9016\n",
      "Epoch 15/20\n",
      "469/469 [==============================] - 1s 1ms/step - loss: 0.2565 - sparse_categorical_accuracy: 0.9043\n",
      "Epoch 16/20\n",
      "469/469 [==============================] - 1s 1ms/step - loss: 0.2509 - sparse_categorical_accuracy: 0.9070\n",
      "Epoch 17/20\n",
      "469/469 [==============================] - 1s 1ms/step - loss: 0.2484 - sparse_categorical_accuracy: 0.9081\n",
      "Epoch 18/20\n",
      "469/469 [==============================] - 1s 1ms/step - loss: 0.2424 - sparse_categorical_accuracy: 0.9093\n",
      "Epoch 19/20\n",
      "469/469 [==============================] - 1s 1ms/step - loss: 0.2406 - sparse_categorical_accuracy: 0.9107\n",
      "Epoch 20/20\n",
      "469/469 [==============================] - 1s 1ms/step - loss: 0.2359 - sparse_categorical_accuracy: 0.9112\n",
      "Distributed training: 12.573242902755737\n"
     ]
    }
   ],
   "source": [
    "import time\n",
    "\n",
    "starting_time = time.time()\n",
    "model_distributed.fit(X_train, y_train, epochs=20, batch_size=128)\n",
    "print(\"Distributed training: {}\".format(time.time() - starting_time))"
   ]
  },
  {
   "cell_type": "code",
   "execution_count": 18,
   "id": "5b3a1887",
   "metadata": {},
   "outputs": [
    {
     "name": "stdout",
     "output_type": "stream",
     "text": [
      "Epoch 1/20\n",
      "469/469 [==============================] - 1s 1ms/step - loss: 0.6038 - sparse_categorical_accuracy: 0.7886\n",
      "Epoch 2/20\n",
      "469/469 [==============================] - 1s 1ms/step - loss: 0.4319 - sparse_categorical_accuracy: 0.8478\n",
      "Epoch 3/20\n",
      "469/469 [==============================] - 1s 1ms/step - loss: 0.3862 - sparse_categorical_accuracy: 0.8604\n",
      "Epoch 4/20\n",
      "469/469 [==============================] - 1s 1ms/step - loss: 0.3604 - sparse_categorical_accuracy: 0.8701\n",
      "Epoch 5/20\n",
      "469/469 [==============================] - 1s 1ms/step - loss: 0.3439 - sparse_categorical_accuracy: 0.8746\n",
      "Epoch 6/20\n",
      "469/469 [==============================] - 1s 1ms/step - loss: 0.3299 - sparse_categorical_accuracy: 0.8799\n",
      "Epoch 7/20\n",
      "469/469 [==============================] - 1s 1ms/step - loss: 0.3177 - sparse_categorical_accuracy: 0.8831\n",
      "Epoch 8/20\n",
      "469/469 [==============================] - 1s 1ms/step - loss: 0.3078 - sparse_categorical_accuracy: 0.8885\n",
      "Epoch 9/20\n",
      "469/469 [==============================] - 1s 1ms/step - loss: 0.3005 - sparse_categorical_accuracy: 0.8903\n",
      "Epoch 10/20\n",
      "469/469 [==============================] - 1s 1ms/step - loss: 0.2918 - sparse_categorical_accuracy: 0.8933\n",
      "Epoch 11/20\n",
      "469/469 [==============================] - 1s 1ms/step - loss: 0.2838 - sparse_categorical_accuracy: 0.8952\n",
      "Epoch 12/20\n",
      "469/469 [==============================] - 1s 1ms/step - loss: 0.2784 - sparse_categorical_accuracy: 0.8987\n",
      "Epoch 13/20\n",
      "469/469 [==============================] - 1s 1ms/step - loss: 0.2698 - sparse_categorical_accuracy: 0.8992\n",
      "Epoch 14/20\n",
      "469/469 [==============================] - 1s 1ms/step - loss: 0.2685 - sparse_categorical_accuracy: 0.8994\n",
      "Epoch 15/20\n",
      "469/469 [==============================] - 1s 1ms/step - loss: 0.2619 - sparse_categorical_accuracy: 0.9027\n",
      "Epoch 16/20\n",
      "469/469 [==============================] - 1s 1ms/step - loss: 0.2574 - sparse_categorical_accuracy: 0.9053\n",
      "Epoch 17/20\n",
      "469/469 [==============================] - 1s 1ms/step - loss: 0.2529 - sparse_categorical_accuracy: 0.9057\n",
      "Epoch 18/20\n",
      "469/469 [==============================] - 1s 1ms/step - loss: 0.2488 - sparse_categorical_accuracy: 0.9067\n",
      "Epoch 19/20\n",
      "469/469 [==============================] - 1s 1ms/step - loss: 0.2454 - sparse_categorical_accuracy: 0.9082\n",
      "Epoch 20/20\n",
      "469/469 [==============================] - 1s 1ms/step - loss: 0.2416 - sparse_categorical_accuracy: 0.9100\n",
      "Normal training: 10.665089845657349\n"
     ]
    }
   ],
   "source": [
    "starting_time = time.time()\n",
    "model_normal.fit(X_train, y_train, epochs=20, batch_size=128)\n",
    "print(\"Normal training: {}\".format(time.time() - starting_time))"
   ]
  }
 ],
 "metadata": {
  "kernelspec": {
   "display_name": "Python 3 (ipykernel)",
   "language": "python",
   "name": "python3"
  },
  "language_info": {
   "codemirror_mode": {
    "name": "ipython",
    "version": 3
   },
   "file_extension": ".py",
   "mimetype": "text/x-python",
   "name": "python",
   "nbconvert_exporter": "python",
   "pygments_lexer": "ipython3",
   "version": "3.9.13"
  }
 },
 "nbformat": 4,
 "nbformat_minor": 5
}
