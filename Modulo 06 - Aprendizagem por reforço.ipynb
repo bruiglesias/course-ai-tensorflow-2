{
 "cells": [
  {
   "cell_type": "markdown",
   "id": "3a36915e",
   "metadata": {},
   "source": [
    "# Aprendizagem por reforço"
   ]
  },
  {
   "cell_type": "markdown",
   "id": "fafa07db",
   "metadata": {},
   "source": [
    "## Importando as bibliotecas e base de dados"
   ]
  },
  {
   "cell_type": "code",
   "execution_count": null,
   "id": "b580dd56",
   "metadata": {},
   "outputs": [],
   "source": [
    "import math\n",
    "import random\n",
    "import numpy as np\n",
    "import pandas as pd\n",
    "import tensorflow as tf\n",
    "import matplotlib.pyplot as plt\n",
    "import pandas_datareader as data_reader\n",
    "from pandas.util.testing import assert_frame_equal\n",
    "from collections import deque"
   ]
  },
  {
   "cell_type": "markdown",
   "id": "8794ae6b",
   "metadata": {},
   "source": [
    "## Construindo o modelo"
   ]
  },
  {
   "cell_type": "code",
   "execution_count": null,
   "id": "ff8a72f1",
   "metadata": {},
   "outputs": [],
   "source": [
    "class AI_Trader():\n",
    "\n",
    "    def __init__(self, state_size, action_space = 3, model_name = \"AITrader\"):\n",
    "        self.state_size = state_size\n",
    "        self.action_space = action_space\n",
    "        self.memory = deque(maxlen = 2000)\n",
    "        self.model_name = model_name\n",
    "\n",
    "        self.gamma = 0.95\n",
    "        self.epsilon = 1.0\n",
    "        self.epsilon_final = 0.01\n",
    "        self.epsilon_decay = 0.995\n",
    "        self.model = self.model_builder()\n",
    "\n",
    "    def model_builder(self):\n",
    "        model = tf.keras.models.Sequential()\n",
    "        model.add(tf.keras.Input(shape=(self.state_size,)))\n",
    "        model.add(tf.keras.layers.Dense(units = 32, activation = \"relu\"))\n",
    "        model.add(tf.keras.layers.Dense(units = 64, activation = \"relu\"))\n",
    "        model.add(tf.keras.layers.Dense(units = 128, activation = \"relu\"))\n",
    "        model.add(tf.keras.layers.Dense(units = self.action_space, activation = \"linear\"))\n",
    "        model.compile(loss = \"mse\", optimizer = tf.keras.optimizers.Adam(lr = 0.001))\n",
    "        return model\n",
    "\n",
    "\n",
    "    def trade(self, state):\n",
    "        if random.random() <= self.epsilon:\n",
    "            return random.randrange(self.action_space)\n",
    "\n",
    "        actions = self.model.predict(state)\n",
    "        return np.argmax(actions[0])\n",
    "\n",
    "    def batch_train(self, batch_size):\n",
    "        batch = []\n",
    "        for i in range(len(self.memory) - batch_size + 1, len(self.memory)):\n",
    "            batch.append(self.memory[i])\n",
    "            print(self.memory[i])\n",
    "            \n",
    "        for state, action, reward, next_state, done in batch:\n",
    "            \n",
    "            if not done:\n",
    "                reward = reward + self.gamma * np.amax(self.model.predict(next_state)[0])\n",
    "            \n",
    "            target = self.model.predict(state)\n",
    "            target[0][action] = reward\n",
    "            \n",
    "            self.model.fit(state, target, epochs=1, verbose=0)\n",
    "            \n",
    "        if self.epsilon > self.epsilon_final:\n",
    "            self.epsilon *= self.epsilon_decay\n",
    "      "
   ]
  },
  {
   "cell_type": "markdown",
   "id": "605c133c",
   "metadata": {},
   "source": [
    "## Pré processamento"
   ]
  },
  {
   "cell_type": "markdown",
   "id": "aea103dd",
   "metadata": {},
   "source": [
    "### Definição de funções auxiliares"
   ]
  },
  {
   "cell_type": "markdown",
   "id": "6eba89b7",
   "metadata": {},
   "source": [
    "#### Sigmoid"
   ]
  },
  {
   "cell_type": "code",
   "execution_count": null,
   "id": "f13f1fbd",
   "metadata": {},
   "outputs": [],
   "source": [
    "def sigmoid(x):\n",
    "    return 1 / (1 + math.exp(-x))"
   ]
  },
  {
   "cell_type": "code",
   "execution_count": null,
   "id": "ed28ca22",
   "metadata": {
    "scrolled": true
   },
   "outputs": [],
   "source": [
    "sigmoid(0.5)"
   ]
  },
  {
   "cell_type": "markdown",
   "id": "6f0bf282",
   "metadata": {},
   "source": [
    "#### Formatação de preços"
   ]
  },
  {
   "cell_type": "code",
   "execution_count": null,
   "id": "20cd9837",
   "metadata": {},
   "outputs": [],
   "source": [
    "def stocks_price_format(n):\n",
    "    if n < 0:\n",
    "        return \"- $ {0:2f}\".format(abs(n))\n",
    "    else:\n",
    "        return \"$ {0:2f}\".format(abs(n))"
   ]
  },
  {
   "cell_type": "code",
   "execution_count": null,
   "id": "fb34eddc",
   "metadata": {},
   "outputs": [],
   "source": [
    "stocks_price_format(100)"
   ]
  },
  {
   "cell_type": "markdown",
   "id": "b4ecec92",
   "metadata": {},
   "source": [
    "### Carregador da base de dados"
   ]
  },
  {
   "cell_type": "code",
   "execution_count": null,
   "id": "7717998c",
   "metadata": {},
   "outputs": [],
   "source": [
    "import yfinance as yf"
   ]
  },
  {
   "cell_type": "code",
   "execution_count": null,
   "id": "b7d04a9a",
   "metadata": {},
   "outputs": [],
   "source": [
    "dataset = yf.download('AAPL', start='2016-06-02')"
   ]
  },
  {
   "cell_type": "code",
   "execution_count": null,
   "id": "ccab44f6",
   "metadata": {},
   "outputs": [],
   "source": [
    "dataset.head()"
   ]
  },
  {
   "cell_type": "code",
   "execution_count": null,
   "id": "cadc02c3",
   "metadata": {},
   "outputs": [],
   "source": [
    "str(dataset.index[0]).split()[0]"
   ]
  },
  {
   "cell_type": "code",
   "execution_count": null,
   "id": "d7c139bc",
   "metadata": {},
   "outputs": [],
   "source": [
    "def dataset_loader(stock_name):\n",
    "    dataset = yf.download(stock_name, start='2016-06-02')\n",
    "    start_date = str(dataset.index[0]).split()[0]\n",
    "    end_date = str(dataset.index[-1]).split()[0]\n",
    "    close = dataset['Close']\n",
    "    return close"
   ]
  },
  {
   "cell_type": "markdown",
   "id": "510d4753",
   "metadata": {},
   "source": [
    "### Criador de estados "
   ]
  },
  {
   "cell_type": "code",
   "execution_count": null,
   "id": "adba0370",
   "metadata": {},
   "outputs": [],
   "source": [
    "def state_creator(data, timestep, window_size):\n",
    "    starting_id = timestep - window_size + 1\n",
    "    \n",
    "    if starting_id >= 0:\n",
    "        windowed_data = np.array(data[starting_id:timestep + 1])\n",
    "    else:\n",
    "        windowed_data = np.array(- starting_id * [data[0]] + list(data[0:timestep + 1]))\n",
    "        \n",
    "    state = []\n",
    "    for i in range(window_size - 1):\n",
    "        state.append(sigmoid(windowed_data[i + 1] - windowed_data[i]))\n",
    "    \n",
    "    return np.array([state])"
   ]
  },
  {
   "cell_type": "markdown",
   "id": "bb6c1ab5",
   "metadata": {},
   "source": [
    "### Carregamento da base de dados"
   ]
  },
  {
   "cell_type": "code",
   "execution_count": null,
   "id": "344f25fe",
   "metadata": {},
   "outputs": [],
   "source": [
    "stock_name = \"AAPL\"\n",
    "data = dataset_loader(stock_name)"
   ]
  },
  {
   "cell_type": "code",
   "execution_count": null,
   "id": "5f01cfcd",
   "metadata": {},
   "outputs": [],
   "source": [
    " s = state_creator(data, 0 ,5)"
   ]
  },
  {
   "cell_type": "code",
   "execution_count": null,
   "id": "cf184560",
   "metadata": {},
   "outputs": [],
   "source": [
    "s"
   ]
  },
  {
   "cell_type": "markdown",
   "id": "676937b3",
   "metadata": {},
   "source": [
    "## Treinando o modelo"
   ]
  },
  {
   "cell_type": "markdown",
   "id": "c876371b",
   "metadata": {},
   "source": [
    "### Configuração dos hyper parâmetros"
   ]
  },
  {
   "cell_type": "code",
   "execution_count": null,
   "id": "4e9c61f1",
   "metadata": {},
   "outputs": [],
   "source": [
    "window_size = 10\n",
    "episodes = 100\n",
    "batch_size = 32\n",
    "data_samples = len(data) - 1"
   ]
  },
  {
   "cell_type": "markdown",
   "id": "97a14747",
   "metadata": {},
   "source": [
    "### Definição do modelo"
   ]
  },
  {
   "cell_type": "code",
   "execution_count": null,
   "id": "61a53971",
   "metadata": {},
   "outputs": [],
   "source": [
    "trader = AI_Trader(window_size)"
   ]
  },
  {
   "cell_type": "code",
   "execution_count": null,
   "id": "be6974ae",
   "metadata": {},
   "outputs": [],
   "source": [
    "trader.model.summary()"
   ]
  },
  {
   "cell_type": "markdown",
   "id": "ebf2dd20",
   "metadata": {},
   "source": [
    "### Loop de Treinamento"
   ]
  },
  {
   "cell_type": "code",
   "execution_count": null,
   "id": "4afb711a",
   "metadata": {},
   "outputs": [],
   "source": [
    "!pip3 install tqdm"
   ]
  },
  {
   "cell_type": "code",
   "execution_count": null,
   "id": "44375c0e",
   "metadata": {},
   "outputs": [],
   "source": [
    "from tqdm import tqdm"
   ]
  },
  {
   "cell_type": "code",
   "execution_count": null,
   "id": "3757d3f7",
   "metadata": {},
   "outputs": [],
   "source": [
    "for episode in range(1, episodes + 1):\n",
    "    print(\"Episode: {}/{}\".format(episode, episodes))\n",
    "    state = state_creator(data, 0, window_size + 1)\n",
    "    total_profit = 0\n",
    "\n",
    "    trader.inventory = []\n",
    "    for t in tqdm(range(data_samples)):\n",
    "        action = trader.trade(state)\n",
    "        next_state = state_creator(data, t + 1, window_size + 1)\n",
    "        reward = 0\n",
    "        \n",
    "        if action == 1: # Comprando uma ação\n",
    "            trader.inventory.append(data[t])\n",
    "            print(\"AI Trader bought: \", stocks_price_format(data[t]))\n",
    "        elif action == 2 and len(trader.inventory) > 0: # Vendendo uma ação  \n",
    "            buy_price = trader.inventory.pop(0)\n",
    "        \n",
    "            reward = max(data[t] - buy_price, 0)\n",
    "            total_profit += data[t] - buy_price\n",
    "            print(\"AI Trader sold: \", stocks_price_format(data[t]), \" Profit: \" + stocks_price_format(data[t] - buy_price))\n",
    "        \n",
    "        if t == data_samples - 1:\n",
    "            done = True\n",
    "        else:\n",
    "            done = False\n",
    "        \n",
    "        trader.memory.append((state, action, reward, next_state, done))\n",
    "        \n",
    "        state = next_state\n",
    "        \n",
    "        if done:\n",
    "            print(\"########################\")\n",
    "            print(\"Total profit: {}\".format(total_profit))\n",
    "            print(\"########################\")\n",
    "        \n",
    "        if len(trader.memory) > batch_size:\n",
    "            trader.batch_train(batch_size)\n",
    "        \n",
    "    if episode % 10 == 0:\n",
    "        trader.model.save(\"ai_trader_{}.h5\".format(episode))\n",
    "            \n",
    "            \n",
    "            \n",
    "                "
   ]
  },
  {
   "cell_type": "code",
   "execution_count": null,
   "id": "1401e580",
   "metadata": {},
   "outputs": [],
   "source": [
    "# passar a janela dos ultimos 10 dias anteriores\n",
    "# "
   ]
  },
  {
   "cell_type": "code",
   "execution_count": null,
   "id": "69ec557e",
   "metadata": {},
   "outputs": [],
   "source": [
    "tf.__version__"
   ]
  }
 ],
 "metadata": {
  "kernelspec": {
   "display_name": "Python 3 (ipykernel)",
   "language": "python",
   "name": "python3"
  },
  "language_info": {
   "codemirror_mode": {
    "name": "ipython",
    "version": 3
   },
   "file_extension": ".py",
   "mimetype": "text/x-python",
   "name": "python",
   "nbconvert_exporter": "python",
   "pygments_lexer": "ipython3",
   "version": "3.9.13"
  }
 },
 "nbformat": 4,
 "nbformat_minor": 5
}
