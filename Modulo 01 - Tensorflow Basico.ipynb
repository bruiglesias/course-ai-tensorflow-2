{
 "cells": [
  {
   "cell_type": "code",
   "execution_count": 2,
   "id": "361f9be1",
   "metadata": {},
   "outputs": [],
   "source": [
    "import tensorflow as tf\n",
    "import numpy as np"
   ]
  },
  {
   "cell_type": "code",
   "execution_count": 3,
   "id": "ecbcfa24",
   "metadata": {},
   "outputs": [
    {
     "data": {
      "text/plain": [
       "'2.10.0'"
      ]
     },
     "execution_count": 3,
     "metadata": {},
     "output_type": "execute_result"
    }
   ],
   "source": [
    "tf.__version__"
   ]
  },
  {
   "cell_type": "markdown",
   "id": "f88e8767",
   "metadata": {},
   "source": [
    "## Constantes"
   ]
  },
  {
   "cell_type": "markdown",
   "id": "b656ccf6",
   "metadata": {},
   "source": [
    "### Definindo uma constante"
   ]
  },
  {
   "cell_type": "code",
   "execution_count": 5,
   "id": "45b2994e",
   "metadata": {},
   "outputs": [],
   "source": [
    "# definindo uma constante no tensorflow\n",
    "tensor = tf.constant([[23, 24], [32, 51]])"
   ]
  },
  {
   "cell_type": "code",
   "execution_count": 6,
   "id": "451e7417",
   "metadata": {},
   "outputs": [
    {
     "data": {
      "text/plain": [
       "<tf.Tensor: shape=(2, 2), dtype=int32, numpy=\n",
       "array([[23, 24],\n",
       "       [32, 51]], dtype=int32)>"
      ]
     },
     "execution_count": 6,
     "metadata": {},
     "output_type": "execute_result"
    }
   ],
   "source": [
    "tensor"
   ]
  },
  {
   "cell_type": "code",
   "execution_count": 7,
   "id": "d61c4b6e",
   "metadata": {},
   "outputs": [
    {
     "data": {
      "text/plain": [
       "TensorShape([2, 2])"
      ]
     },
     "execution_count": 7,
     "metadata": {},
     "output_type": "execute_result"
    }
   ],
   "source": [
    "tensor.shape "
   ]
  },
  {
   "cell_type": "markdown",
   "id": "a1c472ea",
   "metadata": {},
   "source": [
    "### Acessonda os valores de uma constante"
   ]
  },
  {
   "cell_type": "code",
   "execution_count": 8,
   "id": "40ebce7c",
   "metadata": {},
   "outputs": [
    {
     "data": {
      "text/plain": [
       "array([[23, 24],\n",
       "       [32, 51]], dtype=int32)"
      ]
     },
     "execution_count": 8,
     "metadata": {},
     "output_type": "execute_result"
    }
   ],
   "source": [
    "tensor.numpy()"
   ]
  },
  {
   "cell_type": "code",
   "execution_count": 9,
   "id": "b38282ea",
   "metadata": {},
   "outputs": [],
   "source": [
    "# converter um array numpy para um tensor \n",
    "numpy_tensor = np.array([[23, 4], [32, 51]])"
   ]
  },
  {
   "cell_type": "code",
   "execution_count": 10,
   "id": "7e37e725",
   "metadata": {},
   "outputs": [],
   "source": [
    "tensor_from_numpy = tf.constant(numpy_tensor)"
   ]
  },
  {
   "cell_type": "code",
   "execution_count": 11,
   "id": "496cfcf7",
   "metadata": {},
   "outputs": [
    {
     "data": {
      "text/plain": [
       "<tf.Tensor: shape=(2, 2), dtype=int64, numpy=\n",
       "array([[23,  4],\n",
       "       [32, 51]])>"
      ]
     },
     "execution_count": 11,
     "metadata": {},
     "output_type": "execute_result"
    }
   ],
   "source": [
    "tensor_from_numpy "
   ]
  },
  {
   "cell_type": "markdown",
   "id": "e74540bc",
   "metadata": {},
   "source": [
    "## Variaveis"
   ]
  },
  {
   "cell_type": "markdown",
   "id": "d0817b9d",
   "metadata": {},
   "source": [
    "### Definindo uma variavel"
   ]
  },
  {
   "cell_type": "code",
   "execution_count": 12,
   "id": "38c24742",
   "metadata": {},
   "outputs": [
    {
     "data": {
      "text/plain": [
       "<tf.Variable 'Variable:0' shape=(2, 3) dtype=float32, numpy=\n",
       "array([[1., 2., 3.],\n",
       "       [4., 5., 6.]], dtype=float32)>"
      ]
     },
     "execution_count": 12,
     "metadata": {},
     "output_type": "execute_result"
    }
   ],
   "source": [
    "tf_variable = tf.Variable([[1., 2., 3.], [4., 5., 6.]])\n",
    "tf_variable"
   ]
  },
  {
   "cell_type": "markdown",
   "id": "b7636a1b",
   "metadata": {},
   "source": [
    "### Acessando os valores de uma variavel"
   ]
  },
  {
   "cell_type": "code",
   "execution_count": 13,
   "id": "a7404f67",
   "metadata": {},
   "outputs": [
    {
     "data": {
      "text/plain": [
       "array([[1., 2., 3.],\n",
       "       [4., 5., 6.]], dtype=float32)"
      ]
     },
     "execution_count": 13,
     "metadata": {},
     "output_type": "execute_result"
    }
   ],
   "source": [
    "tf_variable.numpy()"
   ]
  },
  {
   "cell_type": "markdown",
   "id": "c252ac41",
   "metadata": {},
   "source": [
    "### Alterando um valor especifico de uma variavel"
   ]
  },
  {
   "cell_type": "code",
   "execution_count": 14,
   "id": "57cee004",
   "metadata": {},
   "outputs": [
    {
     "data": {
      "text/plain": [
       "<tf.Variable 'Variable:0' shape=(2, 3) dtype=float32, numpy=\n",
       "array([[  1.,   2., 100.],\n",
       "       [  4.,   5.,   6.]], dtype=float32)>"
      ]
     },
     "execution_count": 14,
     "metadata": {},
     "output_type": "execute_result"
    }
   ],
   "source": [
    "tf_variable[0, 2].assign(100)\n",
    "tf_variable"
   ]
  },
  {
   "cell_type": "markdown",
   "id": "5cab87f7",
   "metadata": {},
   "source": [
    "## Operacoes com tensores"
   ]
  },
  {
   "cell_type": "code",
   "execution_count": 15,
   "id": "6af9fc37",
   "metadata": {},
   "outputs": [
    {
     "data": {
      "text/plain": [
       "<tf.Tensor: shape=(2, 2), dtype=int32, numpy=\n",
       "array([[1, 2],\n",
       "       [3, 4]], dtype=int32)>"
      ]
     },
     "execution_count": 15,
     "metadata": {},
     "output_type": "execute_result"
    }
   ],
   "source": [
    "tensor_1 = tf.constant([[1, 2],[3, 4]])\n",
    "tensor_1"
   ]
  },
  {
   "cell_type": "markdown",
   "id": "6408c17b",
   "metadata": {},
   "source": [
    "### Adicao entre um escalar e um tensor "
   ]
  },
  {
   "cell_type": "code",
   "execution_count": 17,
   "id": "18498d7a",
   "metadata": {},
   "outputs": [
    {
     "data": {
      "text/plain": [
       "<tf.Tensor: shape=(2, 2), dtype=int32, numpy=\n",
       "array([[3, 4],\n",
       "       [5, 6]], dtype=int32)>"
      ]
     },
     "execution_count": 17,
     "metadata": {},
     "output_type": "execute_result"
    }
   ],
   "source": [
    "tensor_1 + 2"
   ]
  },
  {
   "cell_type": "markdown",
   "id": "6efbff8c",
   "metadata": {},
   "source": [
    "### Multiplicacao entre um escalar e um tensor"
   ]
  },
  {
   "cell_type": "code",
   "execution_count": 18,
   "id": "21b57115",
   "metadata": {},
   "outputs": [
    {
     "data": {
      "text/plain": [
       "<tf.Tensor: shape=(2, 2), dtype=int32, numpy=\n",
       "array([[ 5, 10],\n",
       "       [15, 20]], dtype=int32)>"
      ]
     },
     "execution_count": 18,
     "metadata": {},
     "output_type": "execute_result"
    }
   ],
   "source": [
    "tensor_1 * 5"
   ]
  },
  {
   "cell_type": "markdown",
   "id": "9ca181cd",
   "metadata": {},
   "source": [
    "### Usando funcoes do numpy em tensores"
   ]
  },
  {
   "cell_type": "code",
   "execution_count": 19,
   "id": "49945645",
   "metadata": {},
   "outputs": [
    {
     "data": {
      "text/plain": [
       "array([[ 529,  576],\n",
       "       [1024, 2601]], dtype=int32)"
      ]
     },
     "execution_count": 19,
     "metadata": {},
     "output_type": "execute_result"
    }
   ],
   "source": [
    "# Obtendo o quadrado de todos os membros de um tensor \n",
    "np.square(tensor)"
   ]
  },
  {
   "cell_type": "code",
   "execution_count": 20,
   "id": "6f11024c",
   "metadata": {},
   "outputs": [
    {
     "data": {
      "text/plain": [
       "array([[4.79583152, 4.89897949],\n",
       "       [5.65685425, 7.14142843]])"
      ]
     },
     "execution_count": 20,
     "metadata": {},
     "output_type": "execute_result"
    }
   ],
   "source": [
    "# Obtendo a raiz quadrada de todos os membros de um tensor\n",
    "np.sqrt(tensor)"
   ]
  },
  {
   "cell_type": "markdown",
   "id": "6ce47ab3",
   "metadata": {},
   "source": [
    "### Produto escalar entre dois tensores"
   ]
  },
  {
   "cell_type": "code",
   "execution_count": 22,
   "id": "1e7275ac",
   "metadata": {},
   "outputs": [
    {
     "data": {
      "text/plain": [
       "array([[ 95, 142],\n",
       "       [185, 268]], dtype=int32)"
      ]
     },
     "execution_count": 22,
     "metadata": {},
     "output_type": "execute_result"
    }
   ],
   "source": [
    "np.dot(tensor, tensor_1)"
   ]
  },
  {
   "cell_type": "markdown",
   "id": "d849db7c",
   "metadata": {},
   "source": [
    "## Strings no TensorFlow"
   ]
  },
  {
   "cell_type": "code",
   "execution_count": 23,
   "id": "4d020ea2",
   "metadata": {},
   "outputs": [
    {
     "data": {
      "text/plain": [
       "<tf.Tensor: shape=(), dtype=string, numpy=b'TensorFlow'>"
      ]
     },
     "execution_count": 23,
     "metadata": {},
     "output_type": "execute_result"
    }
   ],
   "source": [
    "tf_string = tf.constant(\"TensorFlow\")\n",
    "tf_string"
   ]
  },
  {
   "cell_type": "markdown",
   "id": "476ce150",
   "metadata": {},
   "source": [
    "### Operacoes simples com string"
   ]
  },
  {
   "cell_type": "code",
   "execution_count": 25,
   "id": "c0032dfb",
   "metadata": {},
   "outputs": [
    {
     "data": {
      "text/plain": [
       "<tf.Tensor: shape=(), dtype=int32, numpy=10>"
      ]
     },
     "execution_count": 25,
     "metadata": {},
     "output_type": "execute_result"
    }
   ],
   "source": [
    "tf.strings.length(tf_string)"
   ]
  },
  {
   "cell_type": "code",
   "execution_count": 26,
   "id": "be826f2f",
   "metadata": {},
   "outputs": [
    {
     "data": {
      "text/plain": [
       "<tf.Tensor: shape=(10,), dtype=int32, numpy=array([ 84, 101, 110, 115, 111, 114,  70, 108, 111, 119], dtype=int32)>"
      ]
     },
     "execution_count": 26,
     "metadata": {},
     "output_type": "execute_result"
    }
   ],
   "source": [
    "tf.strings.unicode_decode(tf_string, \"UTF8\")"
   ]
  },
  {
   "cell_type": "markdown",
   "id": "f1d7f82d",
   "metadata": {},
   "source": [
    "### Armazenando arrays (vetores) de string"
   ]
  },
  {
   "cell_type": "code",
   "execution_count": 27,
   "id": "c3c885fc",
   "metadata": {},
   "outputs": [],
   "source": [
    "tf_string_array = tf.constant([\"TensorFlow\", \"Deep Learning\", \"AI\"])"
   ]
  },
  {
   "cell_type": "code",
   "execution_count": 28,
   "id": "859e2814",
   "metadata": {},
   "outputs": [
    {
     "name": "stdout",
     "output_type": "stream",
     "text": [
      "tf.Tensor(b'TensorFlow', shape=(), dtype=string)\n",
      "tf.Tensor(b'Deep Learning', shape=(), dtype=string)\n",
      "tf.Tensor(b'AI', shape=(), dtype=string)\n"
     ]
    }
   ],
   "source": [
    "for string in tf_string_array:\n",
    "    print(string)"
   ]
  }
 ],
 "metadata": {
  "kernelspec": {
   "display_name": "Python 3 (ipykernel)",
   "language": "python",
   "name": "python3"
  },
  "language_info": {
   "codemirror_mode": {
    "name": "ipython",
    "version": 3
   },
   "file_extension": ".py",
   "mimetype": "text/x-python",
   "name": "python",
   "nbconvert_exporter": "python",
   "pygments_lexer": "ipython3",
   "version": "3.9.13"
  }
 },
 "nbformat": 4,
 "nbformat_minor": 5
}
